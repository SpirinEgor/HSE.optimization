{
 "cells": [
  {
   "cell_type": "code",
   "execution_count": null,
   "metadata": {},
   "outputs": [],
   "source": [
    "from os.path import join, exists\n",
    "from dataclasses import asdict\n",
    "\n",
    "import numpy\n",
    "\n",
    "from line_searches import make_line_search, ArmijoLineSearch, WolfeLineSearch, BrentLineSearch\n",
    "from optimizers import make_optimizer\n",
    "from oracles import make_oracle\n",
    "from experiment import experiment_runner, experiment_graphic_builder\n",
    "from config import Config\n",
    "\n",
    "%load_ext autoreload\n",
    "%autoreload 2"
   ]
  },
  {
   "cell_type": "markdown",
   "metadata": {},
   "source": [
    "# Логистическая регрессия\n",
    "\n",
    "Задача в матричном виде:\n",
    "$$\n",
    "F_{train}(w) = -\\frac{1}{n} \\Big( y^T \\cdot \\log (\\sigma(Xw)) + (1 - y^T) \\cdot \\log (1 - \\sigma(Xw)) \\Big)\n",
    "$$\n",
    "\n",
    "Для неё можно вычислить значения градиента:\n",
    "$$\n",
    "\\nabla_W F = \\frac{1}{n} X^T (\\sigma(Xw) - y)\n",
    "$$\n",
    "Для вычисления гессиана определим вспомогательную диагональную матрицу $D$:\n",
    "$$\n",
    "D = \\text{diag}\\Big( \\frac{1}{n} \\sigma(Xw) (1 - \\sigma(Xw)) \\Big)\n",
    "$$\n",
    "Тогда\n",
    "$$\n",
    "H_F(w) = X^T D X\n",
    "$$\n",
    "\n",
    "Рассмотрим гессиан и некоторый вектор $a$. Воспользуемся диагональностью $D$, а также что на её диагонали положительный элементы (множество значений логит-функции $-$ $[0; 1]$):\n",
    "$$\n",
    "a^T H_F(w) a = a^T X^T D X a = a^T X^T \\sqrt{D} \\sqrt{D} X a = ||\\sqrt{D} X a|| \\ge 0\n",
    "$$\n",
    "Получили, что гессиан логистической регрессии положительно определён. Тогда исходная задача выпуклая. Поэтому результаты оптимизации функции не зависят от выбранной стартовой точки."
   ]
  },
  {
   "cell_type": "markdown",
   "metadata": {},
   "source": [
    "# Инициализация\n",
    "\n",
    "Вспомогательный блок для инициализации оракулов и методов одномерной оптимизации"
   ]
  },
  {
   "cell_type": "code",
   "execution_count": null,
   "metadata": {},
   "outputs": [],
   "source": [
    "config = Config()\n",
    "print('\\n'.join((f\"{key}: {value}\" for key, value in asdict(config).items())))"
   ]
  },
  {
   "cell_type": "code",
   "execution_count": null,
   "metadata": {},
   "outputs": [],
   "source": [
    "line_search_methods = [\"golden\", \"brent\", \"armijo\", \"wolfe\", \"nesterov\"]\n",
    "line_searches = [make_line_search(name, config) for name in line_search_methods]"
   ]
  },
  {
   "cell_type": "code",
   "execution_count": null,
   "metadata": {},
   "outputs": [],
   "source": [
    "a1a_data_path = join(Config.data_folder, \"a1a.txt\")\n",
    "if not exists(a1a_data_path):\n",
    "    raise RuntimeError(f\"Can't find a1a dataset in {a1a_data_path}\")\n",
    "a1a_oracle = make_oracle(a1a_data_path)\n",
    "a1a_start_point = numpy.zeros(a1a_oracle.n_features)\n",
    "a1a_true_minimum = a1a_oracle.get_true_minimum(Config.tol, Config.max_iter)"
   ]
  },
  {
   "cell_type": "code",
   "execution_count": null,
   "metadata": {},
   "outputs": [],
   "source": [
    "bc_data_path = join(Config.data_folder, \"breast-cancer_scale.txt\")\n",
    "if not exists(bc_data_path):\n",
    "    raise RuntimeError(f\"Can't find a1a dataset in {bc_data_path}\")\n",
    "bc_oracle = make_oracle(bc_data_path)\n",
    "bc_start_point = numpy.zeros(bc_oracle.n_features)\n",
    "bc_true_minimum = bc_oracle.get_true_minimum(Config.tol, Config.max_iter)"
   ]
  },
  {
   "cell_type": "code",
   "execution_count": null,
   "metadata": {},
   "outputs": [],
   "source": [
    "random_data_path = join(Config.data_folder, \"random.tsv\")\n",
    "if not exists(random_data_path):\n",
    "    print(f\"Can't found random data on {random_data_path}, will generate new\")\n",
    "    parameters = numpy.random.uniform(low=-1, high=1, size=(51,))\n",
    "    x = numpy.random.rand(1000, 1)\n",
    "    value = (x * parameters[:-1]).sum(axis=1) + parameters[-1]\n",
    "    y = (value >= 0).astype(numpy.short).reshape(-1, 1)\n",
    "    numpy.savetxt(random_data_path, numpy.append(y, x, axis=1), delimiter='\\t', fmt=[\"%d\", \"%8e\"])\n",
    "    print(f\"Generate 1000 samples. Class balance: {y.sum()}/{1000-y.sum()}\")\n",
    "random_oracle = make_oracle(random_data_path, data_format=\"tsv\")\n",
    "random_start_point = numpy.zeros(random_oracle.n_features)\n",
    "random_true_minimum = random_oracle.get_true_minimum(Config.tol, Config.max_iter)"
   ]
  },
  {
   "cell_type": "markdown",
   "metadata": {},
   "source": [
    "# Оптимизация методом градиентного спуска"
   ]
  },
  {
   "cell_type": "code",
   "execution_count": null,
   "metadata": {},
   "outputs": [],
   "source": [
    "grad_descent_optimizer = make_optimizer(\"gradient descent\", config)"
   ]
  },
  {
   "cell_type": "markdown",
   "metadata": {},
   "source": [
    "## a1a dataset"
   ]
  },
  {
   "cell_type": "code",
   "execution_count": null,
   "metadata": {},
   "outputs": [],
   "source": [
    "%%time\n",
    "a1a_optim_res = experiment_runner(a1a_oracle, line_searches, grad_descent_optimizer, a1a_start_point)"
   ]
  },
  {
   "cell_type": "code",
   "execution_count": null,
   "metadata": {},
   "outputs": [],
   "source": [
    "a1a_figure = experiment_graphic_builder(\n",
    "    a1a_optim_res,\n",
    "    \"Compare line search methods on a1a dataset using gradient descent optimizer\",\n",
    "    a1a_true_minimum,\n",
    "    smooth=True\n",
    ")\n",
    "a1a_figure.show()"
   ]
  },
  {
   "cell_type": "markdown",
   "metadata": {},
   "source": [
    "## Breast cancer (scaled)"
   ]
  },
  {
   "cell_type": "code",
   "execution_count": null,
   "metadata": {},
   "outputs": [],
   "source": [
    "%%time\n",
    "bc_optim_res = experiment_runner(bc_oracle, line_searches, grad_descent_optimizer, bc_start_point)"
   ]
  },
  {
   "cell_type": "code",
   "execution_count": null,
   "metadata": {},
   "outputs": [],
   "source": [
    "bc_figure = experiment_graphic_builder(\n",
    "    bc_optim_res,\n",
    "    \"Compare line search methods on breast cancer (scaled) dataset using gradient descent optimizer\",\n",
    "    bc_true_minimum,\n",
    "    smooth=True\n",
    ")\n",
    "bc_figure.show()"
   ]
  },
  {
   "cell_type": "markdown",
   "metadata": {},
   "source": [
    "## Random dataset"
   ]
  },
  {
   "cell_type": "code",
   "execution_count": null,
   "metadata": {},
   "outputs": [],
   "source": [
    "%%time\n",
    "random_optim_res = experiment_runner(random_oracle, line_searches, grad_descent_optimizer, random_start_point)"
   ]
  },
  {
   "cell_type": "code",
   "execution_count": null,
   "metadata": {},
   "outputs": [],
   "source": [
    "random_figure = experiment_graphic_builder(\n",
    "    random_optim_res,\n",
    "    \"Compare line search methods on random dataset using gradient descent optimizer\",\n",
    "    random_true_minimum,\n",
    "    smooth=True\n",
    ")\n",
    "random_figure.show()"
   ]
  },
  {
   "cell_type": "markdown",
   "metadata": {},
   "source": [
    "## Выбор константы для условия Армихо"
   ]
  },
  {
   "cell_type": "code",
   "execution_count": null,
   "metadata": {},
   "outputs": [],
   "source": [
    "armijo_line_searches = []\n",
    "for armijo_c in [1e-4, 1e-2, 0.1, 0.5, 0.9]:\n",
    "    armijo_config = Config()\n",
    "    armijo_config.armijo_c = armijo_c\n",
    "    line_search = ArmijoLineSearch(armijo_config)\n",
    "    line_search.name = f\"{line_search.name} (c={armijo_c})\"\n",
    "    armijo_line_searches.append(line_search)"
   ]
  },
  {
   "cell_type": "code",
   "execution_count": null,
   "metadata": {},
   "outputs": [],
   "source": [
    "armijo_optim_res = experiment_runner(\n",
    "    a1a_oracle, armijo_line_searches, grad_descent_optimizer, a1a_start_point\n",
    ")"
   ]
  },
  {
   "cell_type": "code",
   "execution_count": null,
   "metadata": {},
   "outputs": [],
   "source": [
    "armijo_figure = experiment_graphic_builder(\n",
    "    armijo_optim_res,\n",
    "    \"Compare different parameters for Armijo condition\",\n",
    "    a1a_true_minimum,\n",
    "    smooth=True\n",
    ")\n",
    "armijo_figure.show()"
   ]
  },
  {
   "cell_type": "markdown",
   "metadata": {},
   "source": [
    "## Выбор константы для сильно условия Вульфа"
   ]
  },
  {
   "cell_type": "code",
   "execution_count": null,
   "metadata": {},
   "outputs": [],
   "source": [
    "wolfe_line_searches = []\n",
    "for wolfe_c in [1e-4, 1e-2, 0.1, 0.5, 0.9]:\n",
    "    wolfe_config = Config()\n",
    "    wolfe_config.wolfe_second_c = wolfe_c\n",
    "    line_search = WolfeLineSearch(armijo_config)\n",
    "    line_search.name = f\"{line_search.name} (c={wolfe_c})\"\n",
    "    wolfe_line_searches.append(line_search)"
   ]
  },
  {
   "cell_type": "code",
   "execution_count": null,
   "metadata": {},
   "outputs": [],
   "source": [
    "wolfe_optim_res = experiment_runner(\n",
    "    a1a_oracle, wolfe_line_searches, grad_descent_optimizer, a1a_start_point\n",
    ")"
   ]
  },
  {
   "cell_type": "code",
   "execution_count": null,
   "metadata": {},
   "outputs": [],
   "source": [
    "wolfe_figure = experiment_graphic_builder(\n",
    "    wolfe_optim_res,\n",
    "    \"Compare different parameters for Wolfe strong condition\",\n",
    "    a1a_true_minimum,\n",
    "    smooth=True\n",
    ")\n",
    "wolfe_figure.show()"
   ]
  },
  {
   "cell_type": "markdown",
   "metadata": {},
   "source": [
    "# Оптимизация методом Ньютона с использованием разложения Холецкого"
   ]
  },
  {
   "cell_type": "code",
   "execution_count": null,
   "metadata": {},
   "outputs": [],
   "source": [
    "nc_optimizer = make_optimizer(\"newton-cholesky\", config)"
   ]
  },
  {
   "cell_type": "markdown",
   "metadata": {},
   "source": [
    "## a1a dataset"
   ]
  },
  {
   "cell_type": "code",
   "execution_count": null,
   "metadata": {},
   "outputs": [],
   "source": [
    "%%time\n",
    "a1a_optim_res = experiment_runner(a1a_oracle, line_searches[:-1], nc_optimizer, a1a_start_point)"
   ]
  },
  {
   "cell_type": "code",
   "execution_count": null,
   "metadata": {},
   "outputs": [],
   "source": [
    "a1a_figure = experiment_graphic_builder(\n",
    "    a1a_optim_res,\n",
    "    \"Compare line search methods on a1a dataset using Newton-Cholesky optimizer\",\n",
    "    a1a_true_minimum\n",
    ")\n",
    "a1a_figure.show()"
   ]
  },
  {
   "cell_type": "markdown",
   "metadata": {},
   "source": [
    "## Breast cancer (scaled)"
   ]
  },
  {
   "cell_type": "code",
   "execution_count": null,
   "metadata": {},
   "outputs": [],
   "source": [
    "%%time\n",
    "bc_optim_res = experiment_runner(bc_oracle, line_searches[:-1], nc_optimizer, bc_start_point)"
   ]
  },
  {
   "cell_type": "code",
   "execution_count": null,
   "metadata": {},
   "outputs": [],
   "source": [
    "bc_figure = experiment_graphic_builder(\n",
    "    bc_optim_res,\n",
    "    \"Compare line search methods on breast cancer (scaled) dataset using Newton-Cholesky optimizer\",\n",
    "    bc_true_minimum\n",
    ")\n",
    "bc_figure.show()"
   ]
  },
  {
   "cell_type": "markdown",
   "metadata": {},
   "source": [
    "## Random dataset"
   ]
  },
  {
   "cell_type": "code",
   "execution_count": null,
   "metadata": {},
   "outputs": [],
   "source": [
    "%%time\n",
    "random_optim_res = experiment_runner(random_oracle, line_searches[:-1], nc_optimizer, random_start_point)"
   ]
  },
  {
   "cell_type": "code",
   "execution_count": null,
   "metadata": {},
   "outputs": [],
   "source": [
    "random_figure = experiment_graphic_builder(\n",
    "    random_optim_res,\n",
    "    \"Compare line search methods on random dataset using Newton-Cholesky optimizer\",\n",
    "    random_true_minimum,\n",
    ")\n",
    "random_figure.show()"
   ]
  },
  {
   "cell_type": "markdown",
   "metadata": {},
   "source": [
    "# Оптимизация методом Hessian-free Newton"
   ]
  },
  {
   "cell_type": "code",
   "execution_count": null,
   "metadata": {},
   "outputs": [],
   "source": [
    "hfn_optimizer = make_optimizer(\"hessian free newton\", config)"
   ]
  },
  {
   "cell_type": "markdown",
   "metadata": {},
   "source": [
    "## a1a dataset"
   ]
  },
  {
   "cell_type": "code",
   "execution_count": null,
   "metadata": {},
   "outputs": [],
   "source": [
    "%%time\n",
    "a1a_optim_res = experiment_runner(a1a_oracle, line_searches[:-1], hfn_optimizer, a1a_start_point)"
   ]
  },
  {
   "cell_type": "code",
   "execution_count": null,
   "metadata": {},
   "outputs": [],
   "source": [
    "a1a_figure = experiment_graphic_builder(\n",
    "    a1a_optim_res,\n",
    "    \"Compare line search methods on a1a dataset using Newton-Cholesky optimizer\",\n",
    "    a1a_true_minimum\n",
    ")\n",
    "a1a_figure.show()"
   ]
  },
  {
   "cell_type": "markdown",
   "metadata": {},
   "source": [
    "## Breast cancer (scaled)"
   ]
  },
  {
   "cell_type": "code",
   "execution_count": null,
   "metadata": {},
   "outputs": [],
   "source": [
    "%%time\n",
    "bc_optim_res = experiment_runner(bc_oracle, line_searches[:-1], hfn_optimizer, bc_start_point)"
   ]
  },
  {
   "cell_type": "code",
   "execution_count": null,
   "metadata": {},
   "outputs": [],
   "source": [
    "bc_figure = experiment_graphic_builder(\n",
    "    bc_optim_res,\n",
    "    \"Compare line search methods on breast cancer (scaled) dataset using Newton-Cholesky optimizer\",\n",
    "    bc_true_minimum\n",
    ")\n",
    "bc_figure.show()"
   ]
  },
  {
   "cell_type": "markdown",
   "metadata": {},
   "source": [
    "## Random dataset"
   ]
  },
  {
   "cell_type": "code",
   "execution_count": null,
   "metadata": {},
   "outputs": [],
   "source": [
    "%%time\n",
    "random_optim_res = experiment_runner(random_oracle, line_searches[:-1], hfn_optimizer, random_start_point)"
   ]
  },
  {
   "cell_type": "code",
   "execution_count": null,
   "metadata": {},
   "outputs": [],
   "source": [
    "random_figure = experiment_graphic_builder(\n",
    "    random_optim_res,\n",
    "    \"Compare line search methods on random dataset using Newton-Cholesky optimizer\",\n",
    "    random_true_minimum,\n",
    ")\n",
    "random_figure.show()"
   ]
  },
  {
   "cell_type": "markdown",
   "metadata": {},
   "source": [
    "# Сравнение методов между собой"
   ]
  },
  {
   "cell_type": "code",
   "execution_count": null,
   "metadata": {},
   "outputs": [],
   "source": [
    "armijo_line_search = ArmijoLineSearch(config)\n",
    "brent_line_search = BrentLineSearch(config)\n",
    "across_optim_res = {\n",
    "    \"gradient descent\": grad_descent_optimizer.optimize(a1a_oracle, armijo_line_search, a1a_start_point),\n",
    "    \"newton-cholesky\": nc_optimizer.optimize(a1a_oracle, brent_line_search, a1a_start_point),\n",
    "    \"hessian-free newton\": hfn_optimizer.optimize(a1a_oracle, brent_line_search, a1a_start_point)\n",
    "}"
   ]
  },
  {
   "cell_type": "code",
   "execution_count": null,
   "metadata": {},
   "outputs": [],
   "source": [
    "across_figure = experiment_graphic_builder(\n",
    "    across_optim_res,\n",
    "    \"Compare line search methods on random dataset using Newton-Cholesky optimizer\",\n",
    "    a1a_true_minimum,\n",
    ")\n",
    "across_figure.show()"
   ]
  }
 ],
 "metadata": {
  "kernelspec": {
   "display_name": "Python 3",
   "language": "python",
   "name": "python3"
  },
  "language_info": {
   "codemirror_mode": {
    "name": "ipython",
    "version": 3
   },
   "file_extension": ".py",
   "mimetype": "text/x-python",
   "name": "python",
   "nbconvert_exporter": "python",
   "pygments_lexer": "ipython3",
   "version": "3.8.5"
  }
 },
 "nbformat": 4,
 "nbformat_minor": 1
}
