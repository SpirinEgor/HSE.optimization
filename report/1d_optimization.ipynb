{
 "cells": [
  {
   "cell_type": "code",
   "execution_count": 41,
   "metadata": {
    "pycharm": {
     "name": "#%%\n"
    }
   },
   "outputs": [],
   "source": [
    "import matplotlib.pyplot as plt\n",
    "import numpy\n",
    "\n",
    "from optimize import BrentNumericalRecipes, OptimizeResult\n",
    "from utils import OptimizeParameters\n",
    "from oracle import unimodal, continuous, Oracle\n",
    "from main import test_optimize\n",
    "\n",
    "%matplotlib inline"
   ]
  },
  {
   "cell_type": "code",
   "execution_count": 42,
   "metadata": {
    "pycharm": {
     "name": "#%%\n"
    }
   },
   "outputs": [],
   "source": [
    "def build_plot(optimize_result: OptimizeResult, oracle: Oracle) -> None:\n",
    "    errors = [numpy.log10(abs(oracle.get_x_min() - i)) for i in optimize_result.optimize_history]\n",
    "\n",
    "    plt.plot(errors)\n",
    "    plt.title(f\"f(x)={oracle.get_name()}\")\n",
    "    plt.ylabel(\"error\")\n",
    "    plt.xlabel(\"iteration\")\n",
    "    plt.grid(True)"
   ]
  },
  {
   "cell_type": "code",
   "execution_count": 43,
   "metadata": {},
   "outputs": [],
   "source": [
    "brent = BrentNumericalRecipes(20)"
   ]
  },
  {
   "cell_type": "markdown",
   "metadata": {
    "pycharm": {
     "name": "#%% md\n"
    }
   },
   "source": [
    "# Анализ работы алгоритма Брента с использованием производной\n",
    "\n",
    "В качестве анализа работы алгоритма рассмотрим несколько функций, часть из которых унимодальные, а часть просто непрерывные.\n",
    "\n",
    "Для каждой функции построим график зависимости точности от числа итераций.\n",
    "За точность будем обозначать модуль разности настоящего минимума и полученного алгоритмом к текущей итерации:\n",
    "\n",
    "\\begin{equation*}\n",
    "\\text{error}_i = \\log(| x_i - x^* |)\n",
    "\\end{equation*}\n",
    "\n",
    "## Унимодальные функции\n",
    "\n",
    "1. \\begin{equation*}\n",
    "f(x) = -(16x^2 - 24x + 5) \\cdot e^{-x}\n",
    "\\end{equation*}"
   ]
  },
  {
   "cell_type": "code",
   "execution_count": 44,
   "metadata": {},
   "outputs": [],
   "source": [
    "oracle_1 = unimodal.Function4()\n",
    "left_bound_1 = 0\n",
    "right_bound_1 = 10\n",
    "optimize_result_1 = brent.brent_with_derivatives(\n",
    "    oracle_1.get_oracle(), left_bound_1, right_bound_1, oracle_1.get_eps()\n",
    ")"
   ]
  },
  {
   "cell_type": "markdown",
   "metadata": {},
   "source": [
    "График функции:\n",
    "\n",
    "<img src=\"./images/Problem04.png\" width=\"500px\">\n",
    "\n",
    "Зависимость ошибки от числа итераций:"
   ]
  },
  {
   "cell_type": "code",
   "execution_count": 40,
   "metadata": {},
   "outputs": [
    {
     "data": {
      "image/png": "[encoded data removed]",
      "text/plain": [
       "<Figure size 432x288 with 1 Axes>"
      ]
     },
     "metadata": {
      "needs_background": "light"
     },
     "output_type": "display_data"
    }
   ],
   "source": [
    "print(f\"specified accuracy: {}\")\n",
    "build_plot(optimize_result_1, oracle_1)\n",
    "plt.show()"
   ]
  },
  {
   "cell_type": "code",
   "execution_count": 27,
   "metadata": {},
   "outputs": [
    {
     "name": "stdout",
     "output_type": "stream",
     "text": [
      "x_min = 2.868034401933168\n",
      "f(x_min) = -3.850450708800046\n",
      "df(x_min) = 8.881784197001252e-07\n"
     ]
    }
   ],
   "source": [
    "f_x_min_1, df_x_min_1 = oracle_1.get_oracle()(optimize_result_1.x_min)\n",
    "print(\n",
    "    f\"x_min = {optimize_result_1.x_min}\\n\"\n",
    "    f\"f(x_min) = {f_x_min_1}\\n\"\n",
    "    f\"df(x_min) = {df_x_min_1}\"\n",
    ")"
   ]
  },
  {
   "cell_type": "markdown",
   "metadata": {},
   "source": [
    "2. \\begin{equation*}\n",
    "f(x) = -x^{2/3} - (1 - x^2)^{1/3}\n",
    "\\end{equation*}"
   ]
  },
  {
   "cell_type": "code",
   "execution_count": 28,
   "metadata": {},
   "outputs": [],
   "source": [
    "oracle_2 = unimodal.Function13()\n",
    "left_bound_2 = 0\n",
    "right_bound_2 = 10\n",
    "optimize_result_2 = brent.brent_with_derivatives(\n",
    "    oracle_2.get_oracle(), left_bound_2, right_bound_2, oracle_2.get_eps()\n",
    ")"
   ]
  },
  {
   "cell_type": "markdown",
   "metadata": {},
   "source": [
    "График функции:\n",
    "\n",
    "<img src=\"images/Problem13.png\" width=\"500px\">\n",
    "\n",
    "Зависимость ошибки от числа итераций:"
   ]
  },
  {
   "cell_type": "code",
   "execution_count": 29,
   "metadata": {},
   "outputs": [
    {
     "data": {
      "image/png": "[encoded data removed]",
      "text/plain": [
       "<Figure size 432x288 with 1 Axes>"
      ]
     },
     "metadata": {
      "needs_background": "light"
     },
     "output_type": "display_data"
    }
   ],
   "source": [
    "build_plot(optimize_result_2, oracle_2)\n",
    "plt.show()"
   ]
  },
  {
   "cell_type": "code",
   "execution_count": 30,
   "metadata": {},
   "outputs": [
    {
     "name": "stdout",
     "output_type": "stream",
     "text": [
      "x_min = 0.7071067772594175\n",
      "f(x_min) = -1.5874010519681994\n",
      "df(x_min) = 0.0\n"
     ]
    }
   ],
   "source": [
    "f_x_min_2, df_x_min_2 = oracle_2.get_oracle()(optimize_result_2.x_min)\n",
    "print(\n",
    "    f\"x_min = {optimize_result_2.x_min}\\n\"\n",
    "    f\"f(x_min) = {f_x_min_2}\\n\"\n",
    "    f\"df(x_min) = {df_x_min_2}\"\n",
    ")"
   ]
  },
  {
   "cell_type": "markdown",
   "metadata": {},
   "source": [
    "Для унимодальных функции удалось найти минимум с помощью реализованного алгоритма.\n",
    "\n",
    "## Непрерывные функции\n",
    "\n",
    "Проверим удаётся ли найти локальный минимум на отрезке для непрерывных функций.\n",
    "\n",
    "1. \\begin{equation*}\n",
    "f(x) = \\sin(x) + \\sin(\\frac{10}{3}x)\n",
    "\\end{equation*}"
   ]
  },
  {
   "cell_type": "code",
   "execution_count": 31,
   "metadata": {},
   "outputs": [],
   "source": [
    "oracle_3 = continuous.Function2()\n",
    "left_bound_3 = 0\n",
    "right_bound_3 = 10\n",
    "optimize_result_3 = brent.brent_with_derivatives(\n",
    "    oracle_3.get_oracle(), left_bound_3, right_bound_3, oracle_3.get_eps()\n",
    ")"
   ]
  },
  {
   "cell_type": "markdown",
   "metadata": {},
   "source": [
    "График функции:\n",
    "\n",
    "<img src=\"images/Problem02.png\" width=\"500px\">\n",
    "\n",
    "Зависимость ошибки от числа итераций:"
   ]
  },
  {
   "cell_type": "code",
   "execution_count": 32,
   "metadata": {},
   "outputs": [
    {
     "data": {
      "image/png": "[encoded data removed]",
      "text/plain": [
       "<Figure size 432x288 with 1 Axes>"
      ]
     },
     "metadata": {
      "needs_background": "light"
     },
     "output_type": "display_data"
    }
   ],
   "source": [
    "build_plot(optimize_result_3, oracle_3)\n",
    "plt.show()"
   ]
  },
  {
   "cell_type": "code",
   "execution_count": 33,
   "metadata": {},
   "outputs": [
    {
     "name": "stdout",
     "output_type": "stream",
     "text": [
      "x_local_min = 5.145735248273363\n",
      "f(x_local_min) = -1.8995993491521028\n",
      "df(x_local_min) = -4.218847493575595e-07\n"
     ]
    }
   ],
   "source": [
    "f_x_min_3, df_x_min_3 = oracle_3.get_oracle()(optimize_result_3.x_min)\n",
    "print(\n",
    "    f\"x_local_min = {optimize_result_3.x_min}\\n\"\n",
    "    f\"f(x_local_min) = {f_x_min_3}\\n\"\n",
    "    f\"df(x_local_min) = {df_x_min_3}\"\n",
    ")"
   ]
  },
  {
   "cell_type": "markdown",
   "metadata": {},
   "source": [
    "2. \\begin{equation*}\n",
    "f(x) = \\frac{x^2 - 5x + 6}{x^2 + 1}\n",
    "\\end{equation*}"
   ]
  },
  {
   "cell_type": "code",
   "execution_count": 34,
   "metadata": {},
   "outputs": [],
   "source": [
    "oracle_4 = continuous.Function15()\n",
    "left_bound_4 = -100\n",
    "right_bound_4 = 100\n",
    "optimize_result_4 = brent.brent_with_derivatives(\n",
    "    oracle_4.get_oracle(), left_bound_4, right_bound_4, oracle_4.get_eps()\n",
    ")"
   ]
  },
  {
   "cell_type": "markdown",
   "metadata": {},
   "source": [
    "График функции:\n",
    "\n",
    "<img src=\"images/Problem15.png\" width=\"500px\">\n",
    "\n",
    "Зависимость ошибки от числа итераций:"
   ]
  },
  {
   "cell_type": "code",
   "execution_count": 35,
   "metadata": {},
   "outputs": [
    {
     "data": {
      "image/png": "[encoded data removed]",
      "text/plain": [
       "<Figure size 432x288 with 1 Axes>"
      ]
     },
     "metadata": {
      "needs_background": "light"
     },
     "output_type": "display_data"
    }
   ],
   "source": [
    "build_plot(optimize_result_4, oracle_4)\n",
    "plt.show()"
   ]
  },
  {
   "cell_type": "code",
   "execution_count": 36,
   "metadata": {},
   "outputs": [
    {
     "name": "stdout",
     "output_type": "stream",
     "text": [
      "x_local_min = 2.4142136929882896\n",
      "f(x_local_min) = -0.03553390593273494\n",
      "df(x_local_min) = 2.4980018054066022e-08\n"
     ]
    }
   ],
   "source": [
    "f_x_min_4, df_x_min_4 = oracle_4.get_oracle()(optimize_result_4.x_min)\n",
    "print(\n",
    "    f\"x_local_min = {optimize_result_4.x_min}\\n\"\n",
    "    f\"f(x_local_min) = {f_x_min_4}\\n\"\n",
    "    f\"df(x_local_min) = {df_x_min_4}\"\n",
    ")"
   ]
  },
  {
   "cell_type": "markdown",
   "metadata": {},
   "source": [
    "## Вывод\n",
    "\n",
    "Алгоритм Брента с использованием производной позволяет найти не только минимум унимодальных функций, но и локальный минимум на отрезке для обычных непрерывных функций.\n",
    "\n",
    "### Тестирование на всех реализованных функциях"
   ]
  },
  {
   "cell_type": "code",
   "execution_count": 16,
   "metadata": {},
   "outputs": [],
   "source": [
    "test_samples = [\n",
    "    (OptimizeParameters(-10, 10), unimodal.Example()),\n",
    "    (OptimizeParameters(-10, 10), unimodal.Quadratic(5)),\n",
    "    (OptimizeParameters(0, 10), unimodal.Function4()),\n",
    "    (OptimizeParameters(-1, 2), unimodal.Function13()),\n",
    "    (OptimizeParameters(0, 6), unimodal.Function18()),\n",
    "    (OptimizeParameters(2.7, 7.5), continuous.Function2()),\n",
    "    (OptimizeParameters(0, 2), continuous.Function5()),\n",
    "    (OptimizeParameters(-10, 10), continuous.Function6()),\n",
    "    (OptimizeParameters(0, 10), continuous.Function10()),\n",
    "    (OptimizeParameters(-5, 5), continuous.Function15())\n",
    "]"
   ]
  },
  {
   "cell_type": "code",
   "execution_count": 17,
   "metadata": {},
   "outputs": [
    {
     "name": "stdout",
     "output_type": "stream",
     "text": [
      "====================================================================================================\n",
      "Optimized function: x^2\n",
      "Reached minimum: x=0.0 (f(x), f'(x) = (0.0, 0.0))\n",
      "   True minimum: x=0 (f(x), f'(x) = (0.0, 0))\n",
      "Error: 0\n",
      "Number of calls to the oracle: 1\n",
      "Optimization history: 0.0\n",
      "====================================================================================================\n",
      "====================================================================================================\n",
      "Optimized function: (x - k)^2\n",
      "Reached minimum: x=5.0 (f(x), f'(x) = (0.0, 0.0))\n",
      "   True minimum: x=5 (f(x), f'(x) = (0, 0))\n",
      "Error: 0\n",
      "Number of calls to the oracle: 2\n",
      "Optimization history: 0.0 5.0\n",
      "====================================================================================================\n",
      "====================================================================================================\n",
      "Optimized function: -(16x^2 - 24x + 5) * e^{-x}\n",
      "Reached minimum: x=2.868034 (f(x), f'(x) = (-3.85045070880022, 0.0))\n",
      "   True minimum: x=2.868034 (f(x), f'(x) = (-3.85045070880022, 0.0))\n",
      "Error: 0\n",
      "Number of calls to the oracle: 9\n",
      "Optimization history: 5.0 2.5 2.5 3.0614353945592416 2.9039610967137066 2.8742904722702804 2.8679073753468693 2.868034401933168\n",
      "====================================================================================================\n",
      "====================================================================================================\n",
      "Optimized function: -x^{2/3} - (1 - x^2)^{1/3}\n",
      "Reached minimum: x=0.70710678 (f(x), f'(x) = (-1.5874010519681994, 0.0))\n",
      "   True minimum: x=0.7071067811865475 (f(x), f'(x) = (-1.5874010519681994, 0.0))\n",
      "Error: 0\n",
      "Number of calls to the oracle: 9\n",
      "Optimization history: 0.5 0.5 0.8144654901963129 0.662446152480782 0.6960059717304425 0.7042716000604873 0.7071724691416809 0.7071063847109227 0.7071067780706296\n",
      "====================================================================================================\n",
      "====================================================================================================\n",
      "Optimized function: { (x-2)^2, if x<=3 } { 2 log(x-2) + 1, otherwise }\n",
      "Reached minimum: x=2.0 (f(x), f'(x) = (0.0, 9.99999987845058e-09))\n",
      "   True minimum: x=2 (f(x), f'(x) = (0, 9.99999987845058e-09))\n",
      "Error: 0\n",
      "Number of calls to the oracle: 4\n",
      "Optimization history: 3.0 1.5 1.9999999962992565\n",
      "====================================================================================================\n",
      "====================================================================================================\n",
      "Optimized function: sin(x) + sin(x * 10 / 3)\n",
      "Reached minimum: x=5.145735 (f(x), f'(x) = (-1.899599349151611, -3.375077994860476e-06))\n",
      "   True minimum: x=5.145735 (f(x), f'(x) = (-1.899599349151611, -3.375077994860476e-06))\n",
      "Error: 0\n",
      "Number of calls to the oracle: 7\n",
      "Optimization history: 5.1 5.1 5.1 5.169286020380457 5.145501244631809 5.1457345313112475\n",
      "====================================================================================================\n",
      "====================================================================================================\n",
      "Optimized function: -(1.4 - 3x) * sin(18x)\n",
      "Reached minimum: x=0.96609 (f(x), f'(x) = (-1.4890725343369169, 0.0020771162567712054))\n",
      "   True minimum: x=0.96609 (f(x), f'(x) = (-1.4890725343369169, 0.0020771162567712054))\n",
      "Error: 0\n",
      "Number of calls to the oracle: 9\n",
      "Optimization history: 1.0 1.0 1.0 1.0 1.0 0.9477428499722094 0.9654363806223264 0.9660850898112893\n",
      "====================================================================================================\n",
      "====================================================================================================\n",
      "Optimized function: -[x + sin(x)] * e^{-x^2}\n",
      "Reached minimum: x=0.67958 (f(x), f'(x) = (-0.8242393984728743, 4.807265696626928e-06))\n",
      "   True minimum: x=0.67956 (f(x), f'(x) = (-0.8242393978550422, -6.652456363553938e-05))\n",
      "Error: 2e-05\n",
      "Number of calls to the oracle: 11\n",
      "Optimization history: 0.0 5.0 4.9999499999 2.49997499995 1.249987499975 0.6249937499875 0.6249937499875 0.6821323849245883 0.6796700278601083 0.6795818993645698\n",
      "====================================================================================================\n",
      "====================================================================================================\n",
      "Optimized function: -x * sin(x)\n",
      "Reached minimum: x=7.9789 (f(x), f'(x) = (-7.916727147480008, 0.0019131363160340698))\n",
      "   True minimum: x=7.9787 (f(x), f'(x) = (-7.916727366787959, 0.0002799538378894795))\n",
      "Error: 0.0002\n",
      "Number of calls to the oracle: 6\n",
      "Optimization history: 5.0 7.5 7.5 7.953771761641678 7.978941011758401\n",
      "====================================================================================================\n",
      "====================================================================================================\n",
      "Optimized function: (x^2 - 5x + 6) / (x^2 + 1)\n",
      "Reached minimum: x=2.41422 (f(x), f'(x) = (-0.035533905926452884, 1.9644008641961364e-06))\n",
      "   True minimum: x=2.41422 (f(x), f'(x) = (-0.035533905926452884, 1.9644008641961364e-06))\n",
      "Error: 0\n",
      "Number of calls to the oracle: 10\n",
      "Optimization history: 0.0 2.5 2.48816568679874 2.4778805356737093 2.4778805356737093 2.4778805356737093 2.4089349838986704 2.414578210808744 2.4142156512376847\n",
      "====================================================================================================\n"
     ]
    }
   ],
   "source": [
    "for params, oracle in test_samples:\n",
    "    test_optimize(brent, params, oracle)"
   ]
  }
 ],
 "metadata": {
  "kernelspec": {
   "display_name": "Python 3",
   "language": "python",
   "name": "python3"
  },
  "language_info": {
   "codemirror_mode": {
    "name": "ipython",
    "version": 3
   },
   "file_extension": ".py",
   "mimetype": "text/x-python",
   "name": "python",
   "nbconvert_exporter": "python",
   "pygments_lexer": "ipython3",
   "version": "3.8.5"
  }
 },
 "nbformat": 4,
 "nbformat_minor": 1
}
